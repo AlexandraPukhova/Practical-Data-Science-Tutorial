{
 "cells": [
  {
   "cell_type": "markdown",
   "metadata": {},
   "source": [
    "# Assignment 1: Sprint 2"
   ]
  },
  {
   "cell_type": "markdown",
   "metadata": {},
   "source": [
    "## Sasha (Alexandra) Pukhova"
   ]
  },
  {
   "cell_type": "code",
   "execution_count": 1,
   "metadata": {
    "pycharm": {
     "is_executing": false
    }
   },
   "outputs": [],
   "source": [
    "from sklearn.linear_model import LogisticRegression\n",
    "from sklearn.ensemble import RandomForestClassifier\n",
    "from sklearn.neighbors import KNeighborsClassifier\n",
    "from sklearn.model_selection import train_test_split\n",
    "from sklearn.preprocessing import StandardScaler\n",
    "from sklearn.preprocessing import LabelEncoder\n",
    "from sklearn.neural_network import MLPClassifier\n",
    "from sklearn.decomposition import PCA\n",
    "from sklearn.metrics import log_loss\n",
    "import matplotlib.pyplot as plt\n",
    "import pandas as pd\n",
    "import numpy as np\n",
    "import time"
   ]
  },
  {
   "cell_type": "code",
   "execution_count": 2,
   "metadata": {},
   "outputs": [],
   "source": [
    "# Set directory\n",
    "import os \n",
    "os.chdir('data')"
   ]
  },
  {
   "cell_type": "code",
   "execution_count": 3,
   "metadata": {},
   "outputs": [
    {
     "name": "stderr",
     "output_type": "stream",
     "text": [
      "/Users/dns/anaconda/envs/CS146/lib/python3.6/site-packages/IPython/core/interactiveshell.py:2785: DtypeWarning: Columns (64) have mixed types. Specify dtype option on import or set low_memory=False.\n",
      "  interactivity=interactivity, compiler=compiler, result=result)\n",
      "/Users/dns/anaconda/envs/CS146/lib/python3.6/site-packages/IPython/core/interactiveshell.py:2785: DtypeWarning: Columns (61) have mixed types. Specify dtype option on import or set low_memory=False.\n",
      "  interactivity=interactivity, compiler=compiler, result=result)\n"
     ]
    }
   ],
   "source": [
    "# Load data\n",
    "data = pd.read_csv('train_eng_full.csv')\n",
    "test = pd.read_csv('test_eng_full.csv')"
   ]
  },
  {
   "cell_type": "code",
   "execution_count": 4,
   "metadata": {},
   "outputs": [],
   "source": [
    "data = data[:-1]\n",
    "test = test[:-1]\n",
    "data.Holiday = data.Holiday.astype('int64')"
   ]
  },
  {
   "cell_type": "code",
   "execution_count": 5,
   "metadata": {},
   "outputs": [],
   "source": [
    "# Encode the target \n",
    "cat_le = LabelEncoder()\n",
    "cat_le.fit(data['Category'].unique())\n",
    "data['Category']=cat_le.transform(data['Category'])\n",
    "y_train = data['Category']\n",
    "\n",
    "# Save our mapping\n",
    "decoder = dict(zip(cat_le.transform(cat_le.classes_), cat_le.classes_))"
   ]
  },
  {
   "cell_type": "code",
   "execution_count": 6,
   "metadata": {},
   "outputs": [
    {
     "name": "stdout",
     "output_type": "stream",
     "text": [
      "(191636, 92)\n",
      "(206946, 89)\n"
     ]
    }
   ],
   "source": [
    "print(data.shape)\n",
    "print(test.shape)"
   ]
  },
  {
   "cell_type": "code",
   "execution_count": 7,
   "metadata": {},
   "outputs": [],
   "source": [
    "X_train = data.drop(columns=(['Category','Address', 'Unnamed: 0', 'Unnamed: 0.1', \n",
    "                               'Unnamed: 0.1.1', 'Dates', 'Descript', 'DayOfWeek',\n",
    "                               'Resolution','Enrolled In Public School', 'Enrolled In Private School',\n",
    "                               'Not Enrolled In School' ]))"
   ]
  },
  {
   "cell_type": "markdown",
   "metadata": {},
   "source": [
    "### Train/test split"
   ]
  },
  {
   "cell_type": "code",
   "execution_count": 8,
   "metadata": {},
   "outputs": [
    {
     "name": "stdout",
     "output_type": "stream",
     "text": [
      "(172472, 80) (172472,)\n",
      "(19164, 80) (19164,)\n"
     ]
    }
   ],
   "source": [
    "y = y_train\n",
    "features = X_train\n",
    "\n",
    "X_train, X_test, y_train, y_test = train_test_split(features, y, test_size=0.1)\n",
    "\n",
    "print (X_train.shape, y_train.shape)\n",
    "print (X_test.shape, y_test.shape)"
   ]
  },
  {
   "cell_type": "code",
   "execution_count": 9,
   "metadata": {},
   "outputs": [],
   "source": [
    "from sklearn.preprocessing import StandardScaler\n",
    "\n",
    "scaler = StandardScaler()\n",
    "scaler.fit(X_train) \n",
    "\n",
    "train_for_pca = scaler.transform(X_train)\n",
    "test_for_pca = scaler.transform(X_test)"
   ]
  },
  {
   "cell_type": "code",
   "execution_count": 10,
   "metadata": {},
   "outputs": [],
   "source": [
    "# Creating a dataframe to store the results of experiments\n",
    "\n",
    "benchmark_cols = ['Variance retained','n_Components','Time(s)','Log_loss value']\n",
    "lr_benchmark = pd.DataFrame(columns = benchmark_cols)\n",
    "mlp_benchmark = pd.DataFrame(columns = benchmark_cols)"
   ]
  },
  {
   "cell_type": "code",
   "execution_count": 11,
   "metadata": {},
   "outputs": [],
   "source": [
    "clfs = {'Log_reg':LogisticRegression(penalty='l1',\n",
    "                                     C=1.5,\n",
    "                                     solver='saga',\n",
    "                                     max_iter=100,\n",
    "                                     multi_class='multinomial', n_jobs=-1),\n",
    "          'MLP':MLPClassifier(solver='lbfgs',\n",
    "                       alpha=1e-5,\n",
    "                       hidden_layer_sizes=(5, 2),\n",
    "                       random_state=1)}"
   ]
  },
  {
   "cell_type": "code",
   "execution_count": 12,
   "metadata": {},
   "outputs": [],
   "source": [
    "variance = 1.0\n",
    "labels = list(range(0,39))"
   ]
  },
  {
   "cell_type": "code",
   "execution_count": 39,
   "metadata": {},
   "outputs": [],
   "source": [
    "# Source code: (Foo, 2013) and (Kumar, 2018)"
   ]
  },
  {
   "cell_type": "code",
   "execution_count": 13,
   "metadata": {},
   "outputs": [],
   "source": [
    "# Benchmark at 100% variance anf full number of features.\n",
    "from itertools import repeat\n",
    "\n",
    "def set_benchmark(clf, train_for_pca, test_for_pca, y_train, y_test, labels, benchmark):\n",
    "    global benchmark_cols\n",
    "    global variance\n",
    "    \n",
    "    n_components = train_for_pca.shape[1]\n",
    "    clf = clf\n",
    "    all_classes = labels\n",
    "    \n",
    "    start = time.time()\n",
    "    clf.fit(train_for_pca, y_train)\n",
    "    end = time.time()\n",
    "    timing = end-start\n",
    "    \n",
    "    classes_not_trained = set(clf.classes_).symmetric_difference(all_classes)\n",
    "    prob = clf.predict_proba(test_for_pca)\n",
    "\n",
    "    for row in prob:\n",
    "        prob_per_class = (list(zip(clf.classes_, prob))\n",
    "                        + list(zip(classes_not_trained, repeat(0.))))\n",
    "\n",
    "    logloss = log_loss(y_test, prob, labels=all_classes) \n",
    "    \n",
    "    a = dict(zip(benchmark_cols,[variance,n_components,timing,logloss]))\n",
    "    benchmark = benchmark.append(a,ignore_index=True)\n",
    "\n",
    "    print(benchmark) "
   ]
  },
  {
   "cell_type": "code",
   "execution_count": 14,
   "metadata": {},
   "outputs": [
    {
     "name": "stderr",
     "output_type": "stream",
     "text": [
      "/Users/dns/anaconda/envs/CS146/lib/python3.6/site-packages/sklearn/linear_model/sag.py:337: ConvergenceWarning: The max_iter was reached which means the coef_ did not converge\n",
      "  \"the coef_ did not converge\", ConvergenceWarning)\n"
     ]
    },
    {
     "name": "stdout",
     "output_type": "stream",
     "text": [
      "   Variance retained  n_Components     Time(s)  Log_loss value\n",
      "0                1.0          80.0  428.855759         2.45432\n"
     ]
    }
   ],
   "source": [
    "set_benchmark(clfs['Log_reg'],train_for_pca,test_for_pca,y_train,y_test,labels,lr_benchmark)"
   ]
  },
  {
   "cell_type": "code",
   "execution_count": 15,
   "metadata": {},
   "outputs": [
    {
     "name": "stdout",
     "output_type": "stream",
     "text": [
      "   Variance retained  n_Components   Time(s)  Log_loss value\n",
      "0                1.0          80.0  50.96498         2.48974\n"
     ]
    }
   ],
   "source": [
    "set_benchmark(clfs['MLP'],train_for_pca,test_for_pca,y_train,y_test,labels,mlp_benchmark)"
   ]
  },
  {
   "cell_type": "code",
   "execution_count": 16,
   "metadata": {},
   "outputs": [],
   "source": [
    "variance_list = [0.95,0.90,0.85,0.80,0.75,0.70] "
   ]
  },
  {
   "cell_type": "code",
   "execution_count": 38,
   "metadata": {},
   "outputs": [],
   "source": [
    "# Source code: (Kumar, 2018)"
   ]
  },
  {
   "cell_type": "code",
   "execution_count": 17,
   "metadata": {},
   "outputs": [],
   "source": [
    "def pca(clf,variance,train_for_pca,y_train,test_for_pca,y_test,labels):\n",
    "    pca = PCA(variance)\n",
    "    pca.fit(train_for_pca)\n",
    "    n_components = pca.n_components_\n",
    "    train_for_pca = pca.transform(train_for_pca)\n",
    "    test_for_pca = pca.transform(test_for_pca)\n",
    "    \n",
    "    clf = clf\n",
    "    all_classes = labels\n",
    "    start = time.time()\n",
    "    clf.fit(train_for_pca, y_train)\n",
    "    end =  time.time()\n",
    "    timing = end-start   \n",
    "\n",
    "    # Determine the classes that were not present in the training set\n",
    "    classes_not_trained = set(clf.classes_).symmetric_difference(all_classes)\n",
    "    prob = clf.predict_proba(test_for_pca)\n",
    "    \n",
    "    for row in prob:\n",
    "        prob_per_class = (list(zip(clf.classes_, prob))\n",
    "                        + list(zip(classes_not_trained, repeat(0.))))\n",
    "\n",
    "    logloss = log_loss(y_test, prob, labels=all_classes) \n",
    "    \n",
    "    return([variance,n_components,timing,logloss])"
   ]
  },
  {
   "cell_type": "code",
   "execution_count": 18,
   "metadata": {},
   "outputs": [],
   "source": [
    "def add_to_table_lr(pca):\n",
    "    global lr_benchmark\n",
    "    global benchmark_cols\n",
    "    a = dict(zip(benchmark_cols,pca))\n",
    "    lr_benchmark = lr_benchmark.append(a,ignore_index=True)"
   ]
  },
  {
   "cell_type": "code",
   "execution_count": 19,
   "metadata": {},
   "outputs": [],
   "source": [
    "def add_to_table_mlp(pca):\n",
    "    #return\n",
    "    global mlp_benchmark\n",
    "    global benchmark_cols\n",
    "    a = dict(zip(benchmark_cols,pca))\n",
    "    mlp_benchmark = mlp_benchmark.append(a,ignore_index=True)"
   ]
  },
  {
   "cell_type": "code",
   "execution_count": 20,
   "metadata": {},
   "outputs": [
    {
     "name": "stderr",
     "output_type": "stream",
     "text": [
      "/Users/dns/anaconda/envs/CS146/lib/python3.6/site-packages/sklearn/linear_model/sag.py:337: ConvergenceWarning: The max_iter was reached which means the coef_ did not converge\n",
      "  \"the coef_ did not converge\", ConvergenceWarning)\n",
      "/Users/dns/anaconda/envs/CS146/lib/python3.6/site-packages/sklearn/linear_model/sag.py:337: ConvergenceWarning: The max_iter was reached which means the coef_ did not converge\n",
      "  \"the coef_ did not converge\", ConvergenceWarning)\n",
      "/Users/dns/anaconda/envs/CS146/lib/python3.6/site-packages/sklearn/linear_model/sag.py:337: ConvergenceWarning: The max_iter was reached which means the coef_ did not converge\n",
      "  \"the coef_ did not converge\", ConvergenceWarning)\n",
      "/Users/dns/anaconda/envs/CS146/lib/python3.6/site-packages/sklearn/linear_model/sag.py:337: ConvergenceWarning: The max_iter was reached which means the coef_ did not converge\n",
      "  \"the coef_ did not converge\", ConvergenceWarning)\n",
      "/Users/dns/anaconda/envs/CS146/lib/python3.6/site-packages/sklearn/linear_model/sag.py:337: ConvergenceWarning: The max_iter was reached which means the coef_ did not converge\n",
      "  \"the coef_ did not converge\", ConvergenceWarning)\n",
      "/Users/dns/anaconda/envs/CS146/lib/python3.6/site-packages/sklearn/linear_model/sag.py:337: ConvergenceWarning: The max_iter was reached which means the coef_ did not converge\n",
      "  \"the coef_ did not converge\", ConvergenceWarning)\n"
     ]
    },
    {
     "name": "stdout",
     "output_type": "stream",
     "text": [
      "   Variance retained  n_Components     Time(s)  Log_loss value\n",
      "0               0.95          25.0  129.510784        2.467025\n",
      "1               0.90          21.0  113.611043        2.471851\n",
      "2               0.85          17.0   93.165167        2.475747\n",
      "3               0.80          14.0   85.911292        2.481265\n",
      "4               0.75          11.0   72.853836        2.487809\n",
      "5               0.70           8.0   55.285389        2.491070\n"
     ]
    }
   ],
   "source": [
    "for variance in variance_list:\n",
    "    pca_results = pca(clfs['Log_reg'],variance,train_for_pca,y_train,test_for_pca,y_test,labels)\n",
    "    add_to_table_lr(pca_results)\n",
    "    \n",
    "print(lr_benchmark)"
   ]
  },
  {
   "cell_type": "code",
   "execution_count": 21,
   "metadata": {},
   "outputs": [
    {
     "data": {
      "text/html": [
       "<div>\n",
       "<style scoped>\n",
       "    .dataframe tbody tr th:only-of-type {\n",
       "        vertical-align: middle;\n",
       "    }\n",
       "\n",
       "    .dataframe tbody tr th {\n",
       "        vertical-align: top;\n",
       "    }\n",
       "\n",
       "    .dataframe thead th {\n",
       "        text-align: right;\n",
       "    }\n",
       "</style>\n",
       "<table border=\"1\" class=\"dataframe\">\n",
       "  <thead>\n",
       "    <tr style=\"text-align: right;\">\n",
       "      <th></th>\n",
       "      <th>Variance retained</th>\n",
       "      <th>n_Components</th>\n",
       "      <th>Time(s)</th>\n",
       "      <th>Log_loss value</th>\n",
       "    </tr>\n",
       "  </thead>\n",
       "  <tbody>\n",
       "    <tr>\n",
       "      <th>0</th>\n",
       "      <td>0.95</td>\n",
       "      <td>25.0</td>\n",
       "      <td>129.510784</td>\n",
       "      <td>2.467025</td>\n",
       "    </tr>\n",
       "    <tr>\n",
       "      <th>1</th>\n",
       "      <td>0.90</td>\n",
       "      <td>21.0</td>\n",
       "      <td>113.611043</td>\n",
       "      <td>2.471851</td>\n",
       "    </tr>\n",
       "    <tr>\n",
       "      <th>2</th>\n",
       "      <td>0.85</td>\n",
       "      <td>17.0</td>\n",
       "      <td>93.165167</td>\n",
       "      <td>2.475747</td>\n",
       "    </tr>\n",
       "    <tr>\n",
       "      <th>3</th>\n",
       "      <td>0.80</td>\n",
       "      <td>14.0</td>\n",
       "      <td>85.911292</td>\n",
       "      <td>2.481265</td>\n",
       "    </tr>\n",
       "    <tr>\n",
       "      <th>4</th>\n",
       "      <td>0.75</td>\n",
       "      <td>11.0</td>\n",
       "      <td>72.853836</td>\n",
       "      <td>2.487809</td>\n",
       "    </tr>\n",
       "    <tr>\n",
       "      <th>5</th>\n",
       "      <td>0.70</td>\n",
       "      <td>8.0</td>\n",
       "      <td>55.285389</td>\n",
       "      <td>2.491070</td>\n",
       "    </tr>\n",
       "  </tbody>\n",
       "</table>\n",
       "</div>"
      ],
      "text/plain": [
       "   Variance retained  n_Components     Time(s)  Log_loss value\n",
       "0               0.95          25.0  129.510784        2.467025\n",
       "1               0.90          21.0  113.611043        2.471851\n",
       "2               0.85          17.0   93.165167        2.475747\n",
       "3               0.80          14.0   85.911292        2.481265\n",
       "4               0.75          11.0   72.853836        2.487809\n",
       "5               0.70           8.0   55.285389        2.491070"
      ]
     },
     "execution_count": 21,
     "metadata": {},
     "output_type": "execute_result"
    }
   ],
   "source": [
    "lr_benchmark"
   ]
  },
  {
   "cell_type": "code",
   "execution_count": 31,
   "metadata": {},
   "outputs": [],
   "source": [
    "init_data_0 = [] \n",
    "init_data_0.insert(0, {'Variance retained': 1.0, 'n_Components': 80.0, 'Time(s)': 428.855759, 'Log_loss value': 2.45432})"
   ]
  },
  {
   "cell_type": "code",
   "execution_count": 32,
   "metadata": {},
   "outputs": [
    {
     "name": "stderr",
     "output_type": "stream",
     "text": [
      "/Users/dns/anaconda/envs/CS146/lib/python3.6/site-packages/ipykernel_launcher.py:1: FutureWarning: Sorting because non-concatenation axis is not aligned. A future version\n",
      "of pandas will change to not sort by default.\n",
      "\n",
      "To accept the future behavior, pass 'sort=True'.\n",
      "\n",
      "To retain the current behavior and silence the warning, pass sort=False\n",
      "\n",
      "  \"\"\"Entry point for launching an IPython kernel.\n"
     ]
    },
    {
     "data": {
      "text/html": [
       "<div>\n",
       "<style scoped>\n",
       "    .dataframe tbody tr th:only-of-type {\n",
       "        vertical-align: middle;\n",
       "    }\n",
       "\n",
       "    .dataframe tbody tr th {\n",
       "        vertical-align: top;\n",
       "    }\n",
       "\n",
       "    .dataframe thead th {\n",
       "        text-align: right;\n",
       "    }\n",
       "</style>\n",
       "<table border=\"1\" class=\"dataframe\">\n",
       "  <thead>\n",
       "    <tr style=\"text-align: right;\">\n",
       "      <th></th>\n",
       "      <th>Log_loss value</th>\n",
       "      <th>Time(s)</th>\n",
       "      <th>Variance retained</th>\n",
       "      <th>n_Components</th>\n",
       "    </tr>\n",
       "  </thead>\n",
       "  <tbody>\n",
       "    <tr>\n",
       "      <th>0</th>\n",
       "      <td>2.454320</td>\n",
       "      <td>428.855759</td>\n",
       "      <td>1.00</td>\n",
       "      <td>80.0</td>\n",
       "    </tr>\n",
       "    <tr>\n",
       "      <th>1</th>\n",
       "      <td>2.467025</td>\n",
       "      <td>129.510784</td>\n",
       "      <td>0.95</td>\n",
       "      <td>25.0</td>\n",
       "    </tr>\n",
       "    <tr>\n",
       "      <th>2</th>\n",
       "      <td>2.471851</td>\n",
       "      <td>113.611043</td>\n",
       "      <td>0.90</td>\n",
       "      <td>21.0</td>\n",
       "    </tr>\n",
       "    <tr>\n",
       "      <th>3</th>\n",
       "      <td>2.475747</td>\n",
       "      <td>93.165167</td>\n",
       "      <td>0.85</td>\n",
       "      <td>17.0</td>\n",
       "    </tr>\n",
       "    <tr>\n",
       "      <th>4</th>\n",
       "      <td>2.481265</td>\n",
       "      <td>85.911292</td>\n",
       "      <td>0.80</td>\n",
       "      <td>14.0</td>\n",
       "    </tr>\n",
       "    <tr>\n",
       "      <th>5</th>\n",
       "      <td>2.487809</td>\n",
       "      <td>72.853836</td>\n",
       "      <td>0.75</td>\n",
       "      <td>11.0</td>\n",
       "    </tr>\n",
       "    <tr>\n",
       "      <th>6</th>\n",
       "      <td>2.491070</td>\n",
       "      <td>55.285389</td>\n",
       "      <td>0.70</td>\n",
       "      <td>8.0</td>\n",
       "    </tr>\n",
       "  </tbody>\n",
       "</table>\n",
       "</div>"
      ],
      "text/plain": [
       "   Log_loss value     Time(s)  Variance retained  n_Components\n",
       "0        2.454320  428.855759               1.00          80.0\n",
       "1        2.467025  129.510784               0.95          25.0\n",
       "2        2.471851  113.611043               0.90          21.0\n",
       "3        2.475747   93.165167               0.85          17.0\n",
       "4        2.481265   85.911292               0.80          14.0\n",
       "5        2.487809   72.853836               0.75          11.0\n",
       "6        2.491070   55.285389               0.70           8.0"
      ]
     },
     "execution_count": 32,
     "metadata": {},
     "output_type": "execute_result"
    }
   ],
   "source": [
    "lr_new = pd.concat([pd.DataFrame(init_data_0), lr_benchmark], ignore_index=True)\n",
    "lr_new"
   ]
  },
  {
   "cell_type": "code",
   "execution_count": 24,
   "metadata": {},
   "outputs": [
    {
     "name": "stdout",
     "output_type": "stream",
     "text": [
      "   Variance retained  n_Components    Time(s)  Log_loss value\n",
      "0               0.95          25.0  48.768076        2.512736\n",
      "1               0.90          21.0  15.786216        2.555348\n",
      "2               0.85          17.0  49.686814        2.517085\n",
      "3               0.80          14.0  51.914140        2.511712\n",
      "4               0.75          11.0  56.506080        2.507105\n",
      "5               0.70           8.0  54.092714        2.510727\n"
     ]
    }
   ],
   "source": [
    "for variance in variance_list:\n",
    "    pca_results_mlp = pca(clfs['MLP'],variance,train_for_pca,y_train,test_for_pca,y_test,labels)\n",
    "    add_to_table_mlp(pca_results_mlp)\n",
    "\n",
    "print(mlp_benchmark)"
   ]
  },
  {
   "cell_type": "code",
   "execution_count": 25,
   "metadata": {},
   "outputs": [
    {
     "data": {
      "text/html": [
       "<div>\n",
       "<style scoped>\n",
       "    .dataframe tbody tr th:only-of-type {\n",
       "        vertical-align: middle;\n",
       "    }\n",
       "\n",
       "    .dataframe tbody tr th {\n",
       "        vertical-align: top;\n",
       "    }\n",
       "\n",
       "    .dataframe thead th {\n",
       "        text-align: right;\n",
       "    }\n",
       "</style>\n",
       "<table border=\"1\" class=\"dataframe\">\n",
       "  <thead>\n",
       "    <tr style=\"text-align: right;\">\n",
       "      <th></th>\n",
       "      <th>Variance retained</th>\n",
       "      <th>n_Components</th>\n",
       "      <th>Time(s)</th>\n",
       "      <th>Log_loss value</th>\n",
       "    </tr>\n",
       "  </thead>\n",
       "  <tbody>\n",
       "    <tr>\n",
       "      <th>0</th>\n",
       "      <td>0.95</td>\n",
       "      <td>25.0</td>\n",
       "      <td>48.768076</td>\n",
       "      <td>2.512736</td>\n",
       "    </tr>\n",
       "    <tr>\n",
       "      <th>1</th>\n",
       "      <td>0.90</td>\n",
       "      <td>21.0</td>\n",
       "      <td>15.786216</td>\n",
       "      <td>2.555348</td>\n",
       "    </tr>\n",
       "    <tr>\n",
       "      <th>2</th>\n",
       "      <td>0.85</td>\n",
       "      <td>17.0</td>\n",
       "      <td>49.686814</td>\n",
       "      <td>2.517085</td>\n",
       "    </tr>\n",
       "    <tr>\n",
       "      <th>3</th>\n",
       "      <td>0.80</td>\n",
       "      <td>14.0</td>\n",
       "      <td>51.914140</td>\n",
       "      <td>2.511712</td>\n",
       "    </tr>\n",
       "    <tr>\n",
       "      <th>4</th>\n",
       "      <td>0.75</td>\n",
       "      <td>11.0</td>\n",
       "      <td>56.506080</td>\n",
       "      <td>2.507105</td>\n",
       "    </tr>\n",
       "    <tr>\n",
       "      <th>5</th>\n",
       "      <td>0.70</td>\n",
       "      <td>8.0</td>\n",
       "      <td>54.092714</td>\n",
       "      <td>2.510727</td>\n",
       "    </tr>\n",
       "  </tbody>\n",
       "</table>\n",
       "</div>"
      ],
      "text/plain": [
       "   Variance retained  n_Components    Time(s)  Log_loss value\n",
       "0               0.95          25.0  48.768076        2.512736\n",
       "1               0.90          21.0  15.786216        2.555348\n",
       "2               0.85          17.0  49.686814        2.517085\n",
       "3               0.80          14.0  51.914140        2.511712\n",
       "4               0.75          11.0  56.506080        2.507105\n",
       "5               0.70           8.0  54.092714        2.510727"
      ]
     },
     "execution_count": 25,
     "metadata": {},
     "output_type": "execute_result"
    }
   ],
   "source": [
    "mlp_benchmark"
   ]
  },
  {
   "cell_type": "code",
   "execution_count": 33,
   "metadata": {},
   "outputs": [],
   "source": [
    "init_data = [] \n",
    "init_data.insert(0, {'Variance retained': 1.0, 'n_Components': 80.0, 'Time(s)': 50.96498 , 'Log_loss value': 2.48974})"
   ]
  },
  {
   "cell_type": "code",
   "execution_count": 34,
   "metadata": {},
   "outputs": [
    {
     "name": "stderr",
     "output_type": "stream",
     "text": [
      "/Users/dns/anaconda/envs/CS146/lib/python3.6/site-packages/ipykernel_launcher.py:1: FutureWarning: Sorting because non-concatenation axis is not aligned. A future version\n",
      "of pandas will change to not sort by default.\n",
      "\n",
      "To accept the future behavior, pass 'sort=True'.\n",
      "\n",
      "To retain the current behavior and silence the warning, pass sort=False\n",
      "\n",
      "  \"\"\"Entry point for launching an IPython kernel.\n"
     ]
    },
    {
     "data": {
      "text/html": [
       "<div>\n",
       "<style scoped>\n",
       "    .dataframe tbody tr th:only-of-type {\n",
       "        vertical-align: middle;\n",
       "    }\n",
       "\n",
       "    .dataframe tbody tr th {\n",
       "        vertical-align: top;\n",
       "    }\n",
       "\n",
       "    .dataframe thead th {\n",
       "        text-align: right;\n",
       "    }\n",
       "</style>\n",
       "<table border=\"1\" class=\"dataframe\">\n",
       "  <thead>\n",
       "    <tr style=\"text-align: right;\">\n",
       "      <th></th>\n",
       "      <th>Log_loss value</th>\n",
       "      <th>Time(s)</th>\n",
       "      <th>Variance retained</th>\n",
       "      <th>n_Components</th>\n",
       "    </tr>\n",
       "  </thead>\n",
       "  <tbody>\n",
       "    <tr>\n",
       "      <th>0</th>\n",
       "      <td>2.489740</td>\n",
       "      <td>50.964980</td>\n",
       "      <td>1.00</td>\n",
       "      <td>80.0</td>\n",
       "    </tr>\n",
       "    <tr>\n",
       "      <th>1</th>\n",
       "      <td>2.512736</td>\n",
       "      <td>48.768076</td>\n",
       "      <td>0.95</td>\n",
       "      <td>25.0</td>\n",
       "    </tr>\n",
       "    <tr>\n",
       "      <th>2</th>\n",
       "      <td>2.555348</td>\n",
       "      <td>15.786216</td>\n",
       "      <td>0.90</td>\n",
       "      <td>21.0</td>\n",
       "    </tr>\n",
       "    <tr>\n",
       "      <th>3</th>\n",
       "      <td>2.517085</td>\n",
       "      <td>49.686814</td>\n",
       "      <td>0.85</td>\n",
       "      <td>17.0</td>\n",
       "    </tr>\n",
       "    <tr>\n",
       "      <th>4</th>\n",
       "      <td>2.511712</td>\n",
       "      <td>51.914140</td>\n",
       "      <td>0.80</td>\n",
       "      <td>14.0</td>\n",
       "    </tr>\n",
       "    <tr>\n",
       "      <th>5</th>\n",
       "      <td>2.507105</td>\n",
       "      <td>56.506080</td>\n",
       "      <td>0.75</td>\n",
       "      <td>11.0</td>\n",
       "    </tr>\n",
       "    <tr>\n",
       "      <th>6</th>\n",
       "      <td>2.510727</td>\n",
       "      <td>54.092714</td>\n",
       "      <td>0.70</td>\n",
       "      <td>8.0</td>\n",
       "    </tr>\n",
       "  </tbody>\n",
       "</table>\n",
       "</div>"
      ],
      "text/plain": [
       "   Log_loss value    Time(s)  Variance retained  n_Components\n",
       "0        2.489740  50.964980               1.00          80.0\n",
       "1        2.512736  48.768076               0.95          25.0\n",
       "2        2.555348  15.786216               0.90          21.0\n",
       "3        2.517085  49.686814               0.85          17.0\n",
       "4        2.511712  51.914140               0.80          14.0\n",
       "5        2.507105  56.506080               0.75          11.0\n",
       "6        2.510727  54.092714               0.70           8.0"
      ]
     },
     "execution_count": 34,
     "metadata": {},
     "output_type": "execute_result"
    }
   ],
   "source": [
    "mlp_new = pd.concat([pd.DataFrame(init_data), mlp_benchmark], ignore_index=True)\n",
    "mlp_new"
   ]
  },
  {
   "cell_type": "markdown",
   "metadata": {},
   "source": [
    "### Visualizing the results"
   ]
  },
  {
   "cell_type": "code",
   "execution_count": 35,
   "metadata": {},
   "outputs": [],
   "source": [
    "def vis(benchmark):\n",
    "    benchmark.plot(x=-2,y=0,style=['o','rx'])\n",
    "    plt.title(\"Variance vs Log_loss score\")\n",
    "    \n",
    "#     mlp_benchmark.plot(x=1,y=-1)\n",
    "#     plt.title(\"Number of components vs Log_loss score\")\n",
    "    \n",
    "    benchmark.plot(x=-3,y=0,style=['o','rx'])\n",
    "    # plt.scatter\n",
    "    plt.title(\"Running time vs Log_loss score\")\n",
    "    \n",
    "    plt.show()"
   ]
  },
  {
   "cell_type": "code",
   "execution_count": 36,
   "metadata": {},
   "outputs": [
    {
     "data": {
      "image/png": "[encoded data removed]",
      "text/plain": [
       "<Figure size 432x288 with 1 Axes>"
      ]
     },
     "metadata": {},
     "output_type": "display_data"
    },
    {
     "data": {
      "image/png": "[encoded data removed]",
      "text/plain": [
       "<Figure size 432x288 with 1 Axes>"
      ]
     },
     "metadata": {},
     "output_type": "display_data"
    }
   ],
   "source": [
    "# Visualising the Logistic Regression results\n",
    "vis(lr_new) "
   ]
  },
  {
   "cell_type": "code",
   "execution_count": 37,
   "metadata": {},
   "outputs": [
    {
     "data": {
      "image/png": "[encoded data removed]",
      "text/plain": [
       "<Figure size 432x288 with 1 Axes>"
      ]
     },
     "metadata": {},
     "output_type": "display_data"
    },
    {
     "data": {
      "image/png": "[encoded data removed]",
      "text/plain": [
       "<Figure size 432x288 with 1 Axes>"
      ]
     },
     "metadata": {},
     "output_type": "display_data"
    }
   ],
   "source": [
    "# Visualising MLP results\n",
    "vis(mlp_new)"
   ]
  },
  {
   "cell_type": "markdown",
   "metadata": {},
   "source": [
    "### Code references"
   ]
  },
  {
   "cell_type": "markdown",
   "metadata": {},
   "source": [
    "Foo, F. (2013). Training a sklearn LogisticRegression classifier without all possible labels. Retrieved from https://stackoverflow.com/questions/15034664/training-a-sklearn-logisticregression-classifier-without-all-possible-labels.\n",
    "\n",
    "Kumar, A. (2018, September 20). Logistic Regression with PCA Algorithm - A Guide with Example. Retrieved from https://acadgild.com/blog/logistic-regression-with-pca-algorithm."
   ]
  }
 ],
 "metadata": {
  "kernelspec": {
   "display_name": "Python [conda env:CS146]",
   "language": "python",
   "name": "conda-env-CS146-py"
  },
  "language_info": {
   "codemirror_mode": {
    "name": "ipython",
    "version": 3
   },
   "file_extension": ".py",
   "mimetype": "text/x-python",
   "name": "python",
   "nbconvert_exporter": "python",
   "pygments_lexer": "ipython3",
   "version": "3.6.8"
  },
  "pycharm": {
   "stem_cell": {
    "cell_type": "raw",
    "metadata": {
     "collapsed": false
    },
    "source": []
   }
  }
 },
 "nbformat": 4,
 "nbformat_minor": 2
}
